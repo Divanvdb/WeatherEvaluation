{
 "cells": [
  {
   "cell_type": "code",
   "execution_count": 1,
   "metadata": {},
   "outputs": [
    {
     "name": "stderr",
     "output_type": "stream",
     "text": [
      "c:\\Users\\23603526\\AppData\\Local\\Programs\\Python\\Python311\\Lib\\site-packages\\xarray\\backends\\plugins.py:80: RuntimeWarning: Engine 'cfgrib' loading failed:\n",
      "Cannot find the ecCodes library\n",
      "  warnings.warn(f\"Engine {name!r} loading failed:\\n{ex}\", RuntimeWarning)\n"
     ]
    }
   ],
   "source": [
    "import xarray as xr\n",
    "\n",
    "base = xr.open_dataset('C:/Users/23603526/Documents/GitHub/WeatherEvaluation/data\\keisler_732x7x13x18.nc')\n",
    "test = xr.open_dataset('C:/Users/23603526/Documents/GitHub/WeatherEvaluation/data\\keisler_732x7x49x69.nc')"
   ]
  },
  {
   "cell_type": "code",
   "execution_count": 2,
   "metadata": {},
   "outputs": [],
   "source": [
    "import xarray as xr\n",
    "import numpy as np\n",
    "import matplotlib.pyplot as plt\n",
    "from matplotlib.animation import FuncAnimation\n",
    "\n",
    "import pandas as pd\n",
    "\n",
    "from IPython.display import HTML\n",
    "import cartopy.crs as ccrs\n",
    "\n",
    "class WeatherDataCompare:\n",
    "    def __init__(self, base: xr.Dataset, test: xr.Dataset) -> None:\n",
    "        self.base = base\n",
    "        self.test = test\n",
    "\n",
    "        self.load_data()\n",
    "\n",
    "    def load_data(self) -> None:\n",
    "        self.base.load()\n",
    "        self.test.load()\n",
    "\n",
    "    def describe_data(self) -> None:\n",
    "        print('Base: \\n')\n",
    "        print(self.base.coords)\n",
    "        print('Shape of base variables: ', self.base.wind_speed.shape)\n",
    "\n",
    "        print('Test: \\n')\n",
    "        print('Shape of test variables: ', self.test.wind_speed.shape)\n",
    "\n",
    "    def plot_forecasts(self, seed: int = 0, frame_rate: int = 8, levels: int = 10, \n",
    "                     variables: list = 'wind_speed') -> HTML:\n",
    "\n",
    "        test_sample = self.test[variables].isel(time=seed)\n",
    "        \n",
    "        formatted_times = pd.to_datetime(test_sample.time.values + test_sample.prediction_timedelta.values)\n",
    "\n",
    "        base_sample = self.base[variables].isel(time=seed)\n",
    "\n",
    "        if test_sample.shape[0] == 7:\n",
    "            test_sample = test_sample[1:]\n",
    "            formatted_times = formatted_times[1:]\n",
    "        if base_sample.shape[0] == 7:\n",
    "            base_sample = base_sample[1:]\n",
    "\n",
    "        error = (test_sample.values - base_sample.values) \n",
    "        mae = np.abs(error)\n",
    "        rmse = np.sqrt((error ** 2)) \n",
    "\n",
    "        bounds = [test_sample.longitude.min().item(), test_sample.longitude.max().item(),\n",
    "                test_sample.latitude.min().item(), test_sample.latitude.max().item()]\n",
    "        \n",
    "        print(bounds)\n",
    "\n",
    "        latitudes = test_sample.latitude.values\n",
    "        longitudes = test_sample.longitude.values\n",
    "\n",
    "        # lon_grid, lat_grid = np.meshgrid(latitudes, longitudes)\n",
    "        lon_grid, lat_grid = latitudes, longitudes\n",
    "        \n",
    "        vmin = min(test_sample.values.min(), base_sample.values.min())\n",
    "        vmax = max(test_sample.values.max(), base_sample.values.max())\n",
    "\n",
    "        emin = error.min() \n",
    "        emax = error.max()\n",
    "\n",
    "        mmin = mae.min()\n",
    "        mmax = mae.max()\n",
    "\n",
    "        rmin = rmse.min()\n",
    "        rmax = rmse.max()\n",
    "\n",
    "        print('Vmin: ', vmin)\n",
    "        print('Vmax: ', vmax)\n",
    "        print('Emin: ', emin)\n",
    "        print('Emax: ', emax)\n",
    "        print('Mmin: ', mmin)\n",
    "        print('Mmax: ', mmax)\n",
    "        print('Rmin: ', rmin)\n",
    "        print('Rmax: ', rmax)\n",
    "\n",
    "        fig, axs = plt.subplots(2, 3, figsize=(21, 7), subplot_kw={'projection': ccrs.PlateCarree()})\n",
    "        \n",
    "        fig.subplots_adjust(left=0.05, right=0.95, bottom=0.1, top=0.9, wspace=0.2, hspace=0.2)\n",
    "\n",
    "        for ax in axs.flatten()[:-1]:\n",
    "            ax.set_extent(bounds, crs=ccrs.PlateCarree())\n",
    "            ax.coastlines()\n",
    "\n",
    "        ax_last = fig.add_subplot(2, 3, 6)\n",
    "\n",
    "        print('Test: ', test_sample.values.shape)\n",
    "        print('Base: ', base_sample.values.shape)\n",
    "        print('Error: ', error.shape)        \n",
    "\n",
    "        test = axs[0, 0].contourf(lat_grid, lon_grid, test_sample.values[0], levels=levels, vmin=vmin, vmax=vmax, transform=ccrs.PlateCarree())\n",
    "        base = axs[0, 1].contourf(lat_grid, lon_grid, base_sample.values[0], levels=levels, vmin=vmin, vmax=vmax, transform=ccrs.PlateCarree())\n",
    "        \n",
    "        err = axs[0, 2].contourf(lat_grid, lon_grid, error[0], levels=levels, vmin = emin, vmax = emax, transform=ccrs.PlateCarree(), cmap='coolwarm')\n",
    "        merr = axs[1, 0].contourf(lat_grid, lon_grid, mae[0], levels=levels, vmin = mmin, vmax = mmax, transform=ccrs.PlateCarree(), cmap='coolwarm')\n",
    "        rerr = axs[1, 1].contourf(lat_grid, lon_grid, rmse[0], levels=levels, vmin = rmin, vmax = rmax, transform=ccrs.PlateCarree(), cmap='coolwarm')\n",
    "\n",
    "        ax_last.scatter(base_sample.values[0], test_sample.values[0], c=error[0], label='Forecast', alpha=0.5, cmap='coolwarm')\n",
    "        # TODO: Fix colorbars\n",
    "        fig.colorbar(test, ax=axs[0, 0], orientation=\"vertical\", label=\"Wind Speed levels\", shrink=0.7, pad=0.02)\n",
    "        fig.colorbar(base, ax=axs[0, 1], orientation=\"vertical\", label=\"Wind Speed levels\", shrink=0.7, pad=0.02)\n",
    "        fig.colorbar(err, ax=axs[0, 2], orientation=\"vertical\", label=\"Wind Speed levels\", shrink=0.7, pad=0.02)\n",
    "        fig.colorbar(merr, ax=axs[1, 0], orientation=\"vertical\", label=\"Wind Speed levels\", shrink=0.7, pad=0.02)\n",
    "        fig.colorbar(rerr, ax=axs[1, 1], orientation=\"vertical\", label=\"Wind Speed levels\", shrink=0.7, pad=0.02)\n",
    "        \n",
    "        axs[0, 0].set_title(f\"Wind Speed Forecasts - {formatted_times[0]}\")\n",
    "        axs[0, 1].set_title(f\"Wind Speed Ground Truth - {formatted_times[0]}\")\n",
    "        axs[0, 2].set_title(f\"Bias Error - {formatted_times[0]}\")\n",
    "        axs[1, 0].set_title(f\"Mean Absolute Error - {formatted_times[0]}\")\n",
    "        axs[1, 1].set_title(f\"Root Mean Squared Error - {formatted_times[0]}\")\n",
    "        ax_last.set_title('Forecast vs Ground Truth')\n",
    "        ax_last.set_xlabel('Base')\n",
    "        ax_last.set_ylabel('Test')\n",
    "\n",
    "        def animate(i):\n",
    "            print(f\"Frame: {i}/{len(test_sample.prediction_timedelta)}\", end='\\r')\n",
    "            for ax in axs.flatten()[:-1]:\n",
    "                ax.clear()\n",
    "                ax.coastlines()\n",
    "\n",
    "            ax_last.clear()\n",
    "\n",
    "            test = axs[0, 0].contourf(lat_grid, lon_grid, test_sample.values[i], levels=levels, vmin=vmin, vmax=vmax, transform=ccrs.PlateCarree())\n",
    "            base = axs[0, 1].contourf(lat_grid, lon_grid, base_sample.values[i], levels=levels, vmin=vmin, vmax=vmax, transform=ccrs.PlateCarree())\n",
    "            \n",
    "            err = axs[0, 2].contourf(lat_grid, lon_grid, error[i], levels=levels, vmin = emin, vmax = emax, transform=ccrs.PlateCarree(), cmap='coolwarm')\n",
    "            merr = axs[1, 0].contourf(lat_grid, lon_grid, mae[i], levels=levels, vmin = mmin, vmax = mmax, transform=ccrs.PlateCarree(), cmap='coolwarm')\n",
    "            rerr = axs[1, 1].contourf(lat_grid, lon_grid, rmse[i], levels=levels, vmin = rmin, vmax = rmax, transform=ccrs.PlateCarree(), cmap='coolwarm')\n",
    "\n",
    "            scatter = ax_last.scatter(base_sample.values[i], test_sample.values[i], c=error[i], label='Forecast', cmap='coolwarm', alpha=0.5)\n",
    "\n",
    "            axs[0, 0].set_title(f\"Wind Speed Forecasts - {formatted_times[i]}\")\n",
    "            axs[0, 1].set_title(f\"Wind Speed Ground Truth - {formatted_times[i]}\")\n",
    "            axs[0, 2].set_title(f\"Bias Error - {formatted_times[i]}\")\n",
    "            axs[1, 0].set_title(f\"Mean Absolute Error - {formatted_times[i]}\")\n",
    "            axs[1, 1].set_title(f\"Root Mean Squared Error - {formatted_times[i]}\")\n",
    "            ax_last.set_title('Forecast vs Ground Truth')\n",
    "            ax_last.set_xlabel('Base')\n",
    "            ax_last.set_ylabel('Test')\n",
    "            \n",
    "            return test, base, err, merr, rerr, scatter\n",
    "\n",
    "        frames = len(test_sample.prediction_timedelta)\n",
    "\n",
    "        interval = 1000 / frame_rate\n",
    "\n",
    "        ani = FuncAnimation(fig, animate, frames=frames, interval=interval)\n",
    "\n",
    "        plt.close(fig)\n",
    "\n",
    "        return HTML(ani.to_jshtml())\n",
    "    "
   ]
  },
  {
   "cell_type": "code",
   "execution_count": 3,
   "metadata": {},
   "outputs": [],
   "source": [
    "weather_data = WeatherDataCompare(base, test)"
   ]
  },
  {
   "cell_type": "code",
   "execution_count": 4,
   "metadata": {},
   "outputs": [
    {
     "data": {
      "text/plain": [
       "((7, 13, 18), (6, 49, 69))"
      ]
     },
     "execution_count": 4,
     "metadata": {},
     "output_type": "execute_result"
    }
   ],
   "source": [
    "weather_data.base['wind_speed'].isel(time=0).shape, weather_data.test['wind_speed'].isel(time=0).shape"
   ]
  },
  {
   "cell_type": "code",
   "execution_count": 5,
   "metadata": {},
   "outputs": [
    {
     "ename": "ValueError",
     "evalue": "operands could not be broadcast together with shapes (6,49,69) (6,13,18) ",
     "output_type": "error",
     "traceback": [
      "\u001b[1;31m---------------------------------------------------------------------------\u001b[0m",
      "\u001b[1;31mValueError\u001b[0m                                Traceback (most recent call last)",
      "Cell \u001b[1;32mIn[5], line 1\u001b[0m\n\u001b[1;32m----> 1\u001b[0m \u001b[43mweather_data\u001b[49m\u001b[38;5;241;43m.\u001b[39;49m\u001b[43mplot_forecasts\u001b[49m\u001b[43m(\u001b[49m\u001b[43mseed\u001b[49m\u001b[38;5;241;43m=\u001b[39;49m\u001b[38;5;241;43m100\u001b[39;49m\u001b[43m,\u001b[49m\u001b[43m \u001b[49m\u001b[43mframe_rate\u001b[49m\u001b[38;5;241;43m=\u001b[39;49m\u001b[38;5;241;43m8\u001b[39;49m\u001b[43m,\u001b[49m\u001b[43m \u001b[49m\u001b[43mlevels\u001b[49m\u001b[38;5;241;43m=\u001b[39;49m\u001b[38;5;241;43m10\u001b[39;49m\u001b[43m)\u001b[49m\n",
      "Cell \u001b[1;32mIn[2], line 45\u001b[0m, in \u001b[0;36mWeatherDataCompare.plot_forecasts\u001b[1;34m(self, seed, frame_rate, levels, variables)\u001b[0m\n\u001b[0;32m     42\u001b[0m \u001b[38;5;28;01mif\u001b[39;00m base_sample\u001b[38;5;241m.\u001b[39mshape[\u001b[38;5;241m0\u001b[39m] \u001b[38;5;241m==\u001b[39m \u001b[38;5;241m7\u001b[39m:\n\u001b[0;32m     43\u001b[0m     base_sample \u001b[38;5;241m=\u001b[39m base_sample[\u001b[38;5;241m1\u001b[39m:]\n\u001b[1;32m---> 45\u001b[0m error \u001b[38;5;241m=\u001b[39m (\u001b[43mtest_sample\u001b[49m\u001b[38;5;241;43m.\u001b[39;49m\u001b[43mvalues\u001b[49m\u001b[43m \u001b[49m\u001b[38;5;241;43m-\u001b[39;49m\u001b[43m \u001b[49m\u001b[43mbase_sample\u001b[49m\u001b[38;5;241;43m.\u001b[39;49m\u001b[43mvalues\u001b[49m) \n\u001b[0;32m     46\u001b[0m mae \u001b[38;5;241m=\u001b[39m np\u001b[38;5;241m.\u001b[39mabs(error)\n\u001b[0;32m     47\u001b[0m rmse \u001b[38;5;241m=\u001b[39m np\u001b[38;5;241m.\u001b[39msqrt((error \u001b[38;5;241m*\u001b[39m\u001b[38;5;241m*\u001b[39m \u001b[38;5;241m2\u001b[39m)) \n",
      "\u001b[1;31mValueError\u001b[0m: operands could not be broadcast together with shapes (6,49,69) (6,13,18) "
     ]
    }
   ],
   "source": [
    "weather_data.plot_forecasts(seed=100, frame_rate=8, levels=10)"
   ]
  },
  {
   "cell_type": "code",
   "execution_count": 12,
   "metadata": {},
   "outputs": [
    {
     "data": {
      "text/plain": [
       "(7, 13, 18)"
      ]
     },
     "execution_count": 12,
     "metadata": {},
     "output_type": "execute_result"
    }
   ],
   "source": [
    "weather_data.base['wind_speed'].isel(time=0).values.shape"
   ]
  },
  {
   "cell_type": "code",
   "execution_count": 13,
   "metadata": {},
   "outputs": [
    {
     "data": {
      "image/png": "[encoded data removed]",
      "text/plain": [
       "<Figure size 1400x700 with 2 Axes>"
      ]
     },
     "metadata": {},
     "output_type": "display_data"
    }
   ],
   "source": [
    "fig, axs = plt.subplots(1, 2, figsize=(14, 7), subplot_kw={'projection': ccrs.PlateCarree()})\n",
    "\n",
    "axs[0].contourf(weather_data.test['wind_speed'].isel(time=0).longitude, weather_data.test['wind_speed'].isel(time=0).latitude, weather_data.test['wind_speed'].isel(time=0).values[0], levels=10)\n",
    "axs[1].contourf(weather_data.base['wind_speed'].isel(time=0).longitude, weather_data.base['wind_speed'].isel(time=0).latitude, weather_data.base['wind_speed'].isel(time=0).values[1], levels=10)\n",
    "\n",
    "\n",
    "plt.show()"
   ]
  }
 ],
 "metadata": {
  "kernelspec": {
   "display_name": "Python 3",
   "language": "python",
   "name": "python3"
  },
  "language_info": {
   "codemirror_mode": {
    "name": "ipython",
    "version": 3
   },
   "file_extension": ".py",
   "mimetype": "text/x-python",
   "name": "python",
   "nbconvert_exporter": "python",
   "pygments_lexer": "ipython3",
   "version": "3.11.7"
  }
 },
 "nbformat": 4,
 "nbformat_minor": 2
}
